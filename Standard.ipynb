{
  "nbformat": 4,
  "nbformat_minor": 0,
  "metadata": {
    "colab": {
      "provenance": [],
      "authorship_tag": "ABX9TyObRjA2GuIEGSVYJlQ/9xlr",
      "include_colab_link": true
    },
    "kernelspec": {
      "name": "python3",
      "display_name": "Python 3"
    },
    "language_info": {
      "name": "python"
    }
  },
  "cells": [
    {
      "cell_type": "markdown",
      "metadata": {
        "id": "view-in-github",
        "colab_type": "text"
      },
      "source": [
        "<a href=\"https://colab.research.google.com/github/zulfanHamka/technicaltestDE_web_berita/blob/main/Standard.ipynb\" target=\"_parent\"><img src=\"https://colab.research.google.com/assets/colab-badge.svg\" alt=\"Open In Colab\"/></a>"
      ]
    },
    {
      "cell_type": "code",
      "execution_count": 1,
      "metadata": {
        "colab": {
          "base_uri": "https://localhost:8080/",
          "height": 471
        },
        "id": "tEw114u-eal4",
        "outputId": "4b3e7143-116f-4659-9b19-c28667256973"
      },
      "outputs": [
        {
          "output_type": "stream",
          "name": "stdout",
          "text": [
            "Memuat 0 link yang sudah diproses.\n",
            "Memulai monitoring artikel baru (Interval: 300 detik)\n",
            "\n",
            "[2025-09-25 13:05:30] Memeriksa artikel baru...\n",
            "Tidak ada artikel baru.\n",
            "Menunggu 300 detik...\n",
            "\n",
            "[2025-09-25 13:10:31] Memeriksa artikel baru...\n",
            "Tidak ada artikel baru.\n",
            "Menunggu 300 detik...\n"
          ]
        },
        {
          "output_type": "error",
          "ename": "KeyboardInterrupt",
          "evalue": "",
          "traceback": [
            "\u001b[0;31m---------------------------------------------------------------------------\u001b[0m",
            "\u001b[0;31mKeyboardInterrupt\u001b[0m                         Traceback (most recent call last)",
            "\u001b[0;32m/tmp/ipython-input-3875085624.py\u001b[0m in \u001b[0;36m<cell line: 0>\u001b[0;34m()\u001b[0m\n\u001b[1;32m    118\u001b[0m         \u001b[0mprint\u001b[0m\u001b[0;34m(\u001b[0m\u001b[0;34m\"Error: Skrip ini memerlukan Python 3.9+ untuk fitur zona waktu.\"\u001b[0m\u001b[0;34m)\u001b[0m\u001b[0;34m\u001b[0m\u001b[0;34m\u001b[0m\u001b[0m\n\u001b[1;32m    119\u001b[0m         \u001b[0msys\u001b[0m\u001b[0;34m.\u001b[0m\u001b[0mexit\u001b[0m\u001b[0;34m(\u001b[0m\u001b[0;36m1\u001b[0m\u001b[0;34m)\u001b[0m\u001b[0;34m\u001b[0m\u001b[0;34m\u001b[0m\u001b[0m\n\u001b[0;32m--> 120\u001b[0;31m     \u001b[0mmain\u001b[0m\u001b[0;34m(\u001b[0m\u001b[0;34m)\u001b[0m\u001b[0;34m\u001b[0m\u001b[0;34m\u001b[0m\u001b[0m\n\u001b[0m",
            "\u001b[0;32m/tmp/ipython-input-3875085624.py\u001b[0m in \u001b[0;36mmain\u001b[0;34m()\u001b[0m\n\u001b[1;32m    111\u001b[0m         \u001b[0;31m# Jeda sebelum pemeriksaan berikutnya\u001b[0m\u001b[0;34m\u001b[0m\u001b[0;34m\u001b[0m\u001b[0m\n\u001b[1;32m    112\u001b[0m         \u001b[0mprint\u001b[0m\u001b[0;34m(\u001b[0m\u001b[0;34mf\"Menunggu {INTERVAL_DETIK} detik...\"\u001b[0m\u001b[0;34m)\u001b[0m\u001b[0;34m\u001b[0m\u001b[0;34m\u001b[0m\u001b[0m\n\u001b[0;32m--> 113\u001b[0;31m         \u001b[0mtime\u001b[0m\u001b[0;34m.\u001b[0m\u001b[0msleep\u001b[0m\u001b[0;34m(\u001b[0m\u001b[0mINTERVAL_DETIK\u001b[0m\u001b[0;34m)\u001b[0m\u001b[0;34m\u001b[0m\u001b[0;34m\u001b[0m\u001b[0m\n\u001b[0m\u001b[1;32m    114\u001b[0m \u001b[0;34m\u001b[0m\u001b[0m\n\u001b[1;32m    115\u001b[0m \u001b[0;31m# Cek versi python sebelum menjalankan\u001b[0m\u001b[0;34m\u001b[0m\u001b[0;34m\u001b[0m\u001b[0m\n",
            "\u001b[0;31mKeyboardInterrupt\u001b[0m: "
          ]
        }
      ],
      "source": [
        "import requests\n",
        "from bs4 import BeautifulSoup\n",
        "import json\n",
        "import time\n",
        "from datetime import datetime\n",
        "from zoneinfo import ZoneInfo\n",
        "import os\n",
        "import sys\n",
        "\n",
        "# Konfigurasi skrip\n",
        "HEADERS = {\n",
        "    'User-Agent': 'Mozilla/5.0 (Windows NT 10.0; Win64; x64) AppleWebKit/537.36 (KHTML, like Gecko)'\n",
        "}\n",
        "INTERVAL_DETIK = 300\n",
        "FILE_LINKS_TERLIHAT = 'seen_links.txt'\n",
        "WIB = ZoneInfo(\"Asia/Jakarta\")\n",
        "\n",
        "# Fungsi ambil isi artikel\n",
        "def get_article_content(link):\n",
        "    try:\n",
        "        res = requests.get(link, headers=HEADERS)\n",
        "        res.raise_for_status()\n",
        "        soup = BeautifulSoup(res.text, 'lxml')\n",
        "        div_content = soup.find('article', class_='detailsContent')\n",
        "        if not div_content:\n",
        "            return \"Konten tidak ditemukan\"\n",
        "        paragraphs = div_content.find_all('p')\n",
        "        return ' '.join([p.get_text(strip=True) for p in paragraphs])\n",
        "    except requests.exceptions.RequestException as e:\n",
        "        print(f\"Error saat mengambil artikel: {link} | {e}\")\n",
        "        return ''\n",
        "\n",
        "# Fungsi muat link yang sudah dilihat\n",
        "def muat_links_terlihat():\n",
        "    if not os.path.exists(FILE_LINKS_TERLIHAT):\n",
        "        return set()\n",
        "    with open(FILE_LINKS_TERLIHAT, 'r', encoding='utf-8') as f:\n",
        "        return set(line.strip() for line in f)\n",
        "\n",
        "# Fungsi simpan link baru\n",
        "def simpan_link_baru(link):\n",
        "    with open(FILE_LINKS_TERLIHAT, 'a', encoding='utf-8') as f:\n",
        "        f.write(link + '\\n')\n",
        "\n",
        "# Fungsi utama\n",
        "def main():\n",
        "    links_terlihat = muat_links_terlihat()\n",
        "    print(f\"Memuat {len(links_terlihat)} link yang sudah diproses.\")\n",
        "    print(f\"Memulai monitoring artikel baru (Interval: {INTERVAL_DETIK} detik)\")\n",
        "\n",
        "    # Loop utama\n",
        "    while True:\n",
        "        waktu_sekarang_wib = datetime.now(WIB)\n",
        "        print(f\"\\n[{waktu_sekarang_wib.strftime('%Y-%m-%d %H:%M:%S')}] Memeriksa artikel baru...\")\n",
        "\n",
        "        url = 'https://www.bisnis.com/terbaru'\n",
        "        artikel_baru_ditemukan = []\n",
        "\n",
        "        try:\n",
        "            res = requests.get(url, headers=HEADERS)\n",
        "            soup = BeautifulSoup(res.text, 'lxml')\n",
        "            articles = soup.find_all('div', class_='artItem')\n",
        "\n",
        "            for art in articles:\n",
        "                a_tag = art.find('a')\n",
        "                if not (a_tag and 'href' in a_tag.attrs):\n",
        "                    continue\n",
        "\n",
        "                link = a_tag['href']\n",
        "\n",
        "                # Cek jika link baru\n",
        "                if link not in links_terlihat:\n",
        "                    print(f\"Artikel baru ditemukan: {link}\")\n",
        "\n",
        "                    links_terlihat.add(link)\n",
        "                    simpan_link_baru(link)\n",
        "\n",
        "                    h4_tag = art.find('h4')\n",
        "                    title = h4_tag.get_text(strip=True) if h4_tag else \"Judul tidak ditemukan\"\n",
        "                    content = get_article_content(link)\n",
        "\n",
        "                    try:\n",
        "                        date_part = link.split('/')[4]\n",
        "                        time_info = f\"{date_part[:4]}-{date_part[4:6]}-{date_part[6:]}\"\n",
        "                    except IndexError:\n",
        "                        time_info = waktu_sekarang_wib.strftime('%Y-%m-%d')\n",
        "\n",
        "                    # Kumpulkan data artikel baru\n",
        "                    artikel_baru_ditemukan.append({\n",
        "                        'Title': title,\n",
        "                        'Link': link,\n",
        "                        'Time': time_info,\n",
        "                        'Content': content,\n",
        "                        'ScrapedAt': datetime.now(WIB).isoformat()\n",
        "                    })\n",
        "                    time.sleep(1) # Jeda sopan\n",
        "\n",
        "            # Simpan ke file jika ada artikel baru\n",
        "            if artikel_baru_ditemukan:\n",
        "                timestamp = datetime.now(WIB).strftime('%Y-%m-%d_%H%M%S')\n",
        "                file_name = f'artikel_baru_{timestamp}.json'\n",
        "                with open(file_name, 'w', encoding='utf-8') as f:\n",
        "                    json.dump(artikel_baru_ditemukan, f, ensure_ascii=False, indent=4)\n",
        "                print(f\"Menyimpan {len(artikel_baru_ditemukan)} artikel baru ke file {file_name}\")\n",
        "            else:\n",
        "                print(\"Tidak ada artikel baru.\")\n",
        "\n",
        "        except requests.exceptions.RequestException as e:\n",
        "            print(f\"Gagal mengakses situs: {e}\")\n",
        "\n",
        "        # Jeda sebelum pemeriksaan berikutnya\n",
        "        print(f\"Menunggu {INTERVAL_DETIK} detik...\")\n",
        "        time.sleep(INTERVAL_DETIK)\n",
        "\n",
        "# Cek versi python sebelum menjalankan\n",
        "if __name__ == \"__main__\":\n",
        "    if sys.version_info < (3, 9):\n",
        "        print(\"Error: Skrip ini memerlukan Python 3.9+ untuk fitur zona waktu.\")\n",
        "        sys.exit(1)\n",
        "    main()"
      ]
    },
    {
      "cell_type": "markdown",
      "source": [
        "### tidak ada file json karena artikel tidak ditemukan"
      ],
      "metadata": {
        "id": "XVvF2x5igDv8"
      }
    }
  ]
}